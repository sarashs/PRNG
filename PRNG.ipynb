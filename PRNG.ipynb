{
 "cells": [
  {
   "cell_type": "code",
   "execution_count": null,
   "metadata": {},
   "outputs": [],
   "source": [
    "from pynq import Overlay\n",
    "\n",
    "from matplotlib import pyplot as plot\n",
    "from time import sleep"
   ]
  },
  {
   "cell_type": "code",
   "execution_count": null,
   "metadata": {},
   "outputs": [],
   "source": [
    "class xorwow(Overlay):\n",
    "    def __init__(self, ol_path, seed_0, seed_1, seed_2, seed_3, seed_4):\n",
    "        super().__init__(ol_path)\n",
    "        self.seed_0 = seed_0\n",
    "        self.seed_1 = seed_1\n",
    "        self.seed_2 = seed_2\n",
    "        self.seed_3 = seed_3\n",
    "        self.seed_4 = seed_4\n",
    "        self.reset()\n",
    "    def reset(self):\n",
    "        reg_address = 0x00\n",
    "        self.xorwow_lite_0.write(reg_address, 0x03) # set to load and pause\n",
    "        for item in [self.seed_0, self.seed_1, self.seed_2, self.seed_3, self.seed_4]:\n",
    "            reg_address += 4\n",
    "            self.xorwow_lite_0.write(reg_address, item)\n",
    "    def generate(self):\n",
    "        self.xorwow_lite_0.write(0x00, 0x00)\n",
    "        out = self.xorwow_lite_0.read(24)\n",
    "        self.xorwow_lite_0.write(0x00, 0x01)\n",
    "        return out\n",
    "    def load(self, seed_0, seed_1, seed_2, seed_3, seed_4):\n",
    "        self.seed_0 = seed_0\n",
    "        self.seed_1 = seed_1\n",
    "        self.seed_2 = seed_2\n",
    "        self.seed_3 = seed_3\n",
    "        self.seed_4 = seed_4\n",
    "        self.reset()"
   ]
  },
  {
   "cell_type": "code",
   "execution_count": null,
   "metadata": {},
   "outputs": [],
   "source": [
    "ol = xorwow('xorwow.bit', 1,3,4,5,2)"
   ]
  },
  {
   "cell_type": "code",
   "execution_count": null,
   "metadata": {},
   "outputs": [],
   "source": [
    "ol.generate()"
   ]
  },
  {
   "cell_type": "code",
   "execution_count": null,
   "metadata": {},
   "outputs": [],
   "source": [
    "rnd_list = []\n",
    "ol.reset()\n",
    "for i in range(1000):\n",
    "    rnd_list.append(ol.generate())"
   ]
  },
  {
   "cell_type": "code",
   "execution_count": null,
   "metadata": {},
   "outputs": [],
   "source": [
    "plot.hist(rnd_list)"
   ]
  },
  {
   "cell_type": "code",
   "execution_count": null,
   "metadata": {},
   "outputs": [],
   "source": []
  }
 ],
 "metadata": {
  "kernelspec": {
   "display_name": "Python 3",
   "language": "python",
   "name": "python3"
  },
  "language_info": {
   "codemirror_mode": {
    "name": "ipython",
    "version": 3
   },
   "file_extension": ".py",
   "mimetype": "text/x-python",
   "name": "python",
   "nbconvert_exporter": "python",
   "pygments_lexer": "ipython3",
   "version": "3.6.5"
  }
 },
 "nbformat": 4,
 "nbformat_minor": 2
}
